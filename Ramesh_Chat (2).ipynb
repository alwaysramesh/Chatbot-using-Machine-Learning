{
 "cells": [
  {
   "cell_type": "markdown",
   "id": "7e4bf6f0-1111-49d9-aa9f-780d46128783",
   "metadata": {},
   "source": [
    "<h1 style=\"font-size:30px; text-align:center;\">\n",
    "<span style=\"color:red;\">R</span>\n",
    "<span style=\"color:blue;\">a</span>\n",
    "<span style=\"color:green;\">m</span>\n",
    "<span style=\"color:orange;\">e</span>\n",
    "<span style=\"color:purple;\">s</span>\n",
    "<span style=\"color:brown;\">h</span>\n",
    "<span style=\"color:cyan;\">K</span>\n",
    "<span style=\"color:magenta;\">u</span>\n",
    "<span style=\"color:lime;\">m</span>\n",
    "<span style=\"color:pink;\">a</span>\n",
    "<span style=\"color:teal;\">r</span>\n",
    "<span style=\"color:gold;\">P</span>\n",
    "<span style=\"color:deepskyblue;\">r</span>\n",
    "<span style=\"color:crimson;\">a</span>\n",
    "<span style=\"color:indigo;\">j</span>\n",
    "<span style=\"color:violet;\">a</span>\n",
    "<span style=\"color:orangered;\">p</span>\n",
    "<span style=\"color:darkblue;\">a</span>\n",
    "<span style=\"color:darkgreen;\">t</span>\n",
    "<span style=\"color:chocolate;\">i</span>\n",
    "</h1>\n"
   ]
  },
  {
   "cell_type": "code",
   "execution_count": 19,
   "id": "642cd734-fdb2-4249-8160-d7ba475cb049",
   "metadata": {},
   "outputs": [],
   "source": [
    "import io\n",
    "import random\n",
    "import string \n",
    "import warnings \n",
    "import numpy as np \n",
    "from sklearn.feature_extraction.text import TfidfVectorizer \n",
    "from sklearn.metrics.pairwise import cosine_similarity \n",
    "warnings.filterwarnings('ignore')"
   ]
  },
  {
   "cell_type": "code",
   "execution_count": 20,
   "id": "1ed9ab02-c97b-40a8-b23f-560d8c71cbb9",
   "metadata": {},
   "outputs": [
    {
     "data": {
      "text/plain": [
       "True"
      ]
     },
     "execution_count": 20,
     "metadata": {},
     "output_type": "execute_result"
    }
   ],
   "source": [
    "import nltk \n",
    "from nltk.stem import WordNetLemmatizer \n",
    "nltk.download('popular',quiet=True) \n"
   ]
  },
  {
   "cell_type": "markdown",
   "id": "5aae4aa2-890d-4169-93dd-11806e232903",
   "metadata": {},
   "source": [
    "<strong> Import textual Data from system</strong>"
   ]
  },
  {
   "cell_type": "code",
   "execution_count": 21,
   "id": "22151d4d-25d2-4477-9494-2c1fd12e4a4c",
   "metadata": {},
   "outputs": [],
   "source": [
    "f=open(\"C://Users//ALWAYSRAMESH//Downloads//chatbot_copy.txt\",'r',errors='ignore')\n",
    "raw = f.read()\n",
    "raw=raw.lower()"
   ]
  },
  {
   "cell_type": "markdown",
   "id": "b6bb75f8-27aa-4adf-aa7a-664337da97af",
   "metadata": {},
   "source": [
    "**Convert 2-2 pairwise combination like que-ans and print last 5 textual data**"
   ]
  },
  {
   "cell_type": "code",
   "execution_count": 22,
   "id": "d1154895-781e-4f11-b8f6-c51d56ee22b8",
   "metadata": {},
   "outputs": [
    {
     "name": "stdout",
     "output_type": "stream",
     "text": [
      "('cybrom me kitne student hai', 'User: cybrom fee')\n",
      "('cybrom me kitne student hai', 'Bot: bahut kaam hai jaake to dekho!')\n",
      "('bahot sare hai', 'User: cybrom fee')\n",
      "('bahot sare hai', 'Bot: bahut kaam hai jaake to dekho!')\n",
      "('User: cybrom fee', 'Bot: bahut kaam hai jaake to dekho!')\n"
     ]
    }
   ],
   "source": [
    "from itertools import combinations\n",
    "with open(\"C://Users//ALWAYSRAMESH//Downloads//chatbot_copy.txt\", \"r\", encoding=\"utf-8\") as file:\n",
    "    lines = [line.strip() for line in file if line.strip()]  # Remove empty lines\n",
    "pairwise_combinations = list(combinations(lines, 2))\n",
    "for pair in pairwise_combinations[-5:]:\n",
    "    print(pair)"
   ]
  },
  {
   "cell_type": "code",
   "execution_count": 23,
   "id": "e31b8fca-6e8c-48be-bbdd-8bbdca65f3b2",
   "metadata": {},
   "outputs": [],
   "source": [
    "sent_tokens=nltk.sent_tokenize(raw)\n",
    "word_tokens=nltk.word_tokenize(raw)"
   ]
  },
  {
   "cell_type": "code",
   "execution_count": 24,
   "id": "74e1ee42-eb4d-4352-9009-e1d3eca845de",
   "metadata": {},
   "outputs": [],
   "source": [
    "lemmer=nltk.stem.WordNetLemmatizer() \n",
    "def LemTokens(tokens): \n",
    "    return [lemmer.lemmatize(token) for token in tokens] \n",
    "remove_punct_dict = dict((ord(punct),None) for punct in string.punctuation)\n",
    "def LemNormalize(text): \n",
    "    return LemTokens(nltk.word_tokenize(text.lower().translate(remove_punct_dict)))"
   ]
  },
  {
   "cell_type": "code",
   "execution_count": 25,
   "id": "6484099d-502c-40e6-befe-81759bcb67c1",
   "metadata": {},
   "outputs": [],
   "source": [
    "G_INPUTS =(\"hello\",\"hi\",\"Hii\",\"greetings\",\"sup\",\"what's up\",\"hey\",)\n",
    "GREETING_RESPONSES=[\"hi\",\"hey\",\"hey\",\"*nods*\",\"hi there\",\"hello\",\"I am glad! You are talking to me\"]\n",
    "def greeting(sentence): \n",
    "\n",
    "    for word in sentence.split():\n",
    "        if word.lower() in GREETING_RESPONSES: \n",
    "            return random.choice(GREETING_RESPONSES)"
   ]
  },
  {
   "cell_type": "code",
   "execution_count": 26,
   "id": "8e22341d-4c47-4294-9eae-736dc683842b",
   "metadata": {},
   "outputs": [],
   "source": [
    "def response(user_response): \n",
    "    robo_response=''\n",
    "    sent_tokens.append(user_response)\n",
    "    Tfidfvec=TfidfVectorizer(tokenizer=LemNormalize, stop_words='english')\n",
    "    tfidf=Tfidfvec.fit_transform(sent_tokens)\n",
    "    vals=cosine_similarity(tfidf[-1],tfidf)\n",
    "    idx=vals.argsort()[0][-2]\n",
    "    flat= vals.flatten()\n",
    "    flat.sort()\n",
    "    req_tfidf= flat[-2]\n",
    "    if(req_tfidf==0):\n",
    "        robo_response=robo_response+\"I am sorry! i don't understand you\"\n",
    "        return robo_response\n",
    "    else:\n",
    "        robo_response =robo_response+sent_tokens[idx]\n",
    "        return robo_response"
   ]
  },
  {
   "cell_type": "markdown",
   "id": "7e815372-4980-44f2-840a-4e6b7c166044",
   "metadata": {},
   "source": [
    "flag=True \n",
    "print(\"Ramesh: My name is Ramesh. I will answer your queries about Chatbots. If you want to exit, type Bye!\")\n",
    "while(flag==True):\n",
    "    user_response=input()\n",
    "    user_response=user_response.lower()\n",
    "    if(user_response!='bye'):\n",
    "        if(user_response=='thanks' or user_response=='thank you'): \n",
    "            flag=False\n",
    "            print(\"Ramesh: You are welcoome..\")\n",
    "        else:\n",
    "            if(greeting(user_response)!=None): \n",
    "                print(\"Ramesh:\"+greeting(user_response) )\n",
    "            else:\n",
    "                print(\"Ramesh: \",end=\"\")\n",
    "                print(response(user_response))\n",
    "                sent_tokens.remove(user_response)\n",
    "    else:\n",
    "        flag=False\n",
    "        print(\"Ramesh: Bye! take care..\")"
   ]
  },
  {
   "cell_type": "markdown",
   "id": "32a0ced6-ef8e-41ec-8b9d-16e6db8822d9",
   "metadata": {},
   "source": [
    "flag = True\n",
    "print(\"Ramesh: My name is Ramesh. I will answer your queries about Chatbots. If you want to exit, type Bye!\")\n",
    "\n",
    "while flag:\n",
    "    user_response = input().strip()  # Remove extra spaces\n",
    "    user_response = user_response.lower()\n",
    "\n",
    "    if user_response != 'bye':\n",
    "        if user_response in ['thanks', 'thank you']: \n",
    "            flag = False\n",
    "            print(\"Ramesh: You are welcome..\")\n",
    "        else:\n",
    "            if greeting(user_response) is not None: \n",
    "                print(\"Ramesh:\", greeting(user_response))\n",
    "            else:\n",
    "                print(\"Ramesh:\", response(user_response))  # Ensure response() does not add \"User:\"\n",
    "                if user_response in sent_tokens:\n",
    "                    sent_tokens.remove(user_response)  # Avoid key error\n",
    "    else:\n",
    "        flag = False\n",
    "        print(\"Ramesh: Bye! Take care..\")\n"
   ]
  },
  {
   "cell_type": "code",
   "execution_count": null,
   "id": "f5770ed2-8a1d-4a41-9c6f-8a24a9fcc14e",
   "metadata": {},
   "outputs": [
    {
     "name": "stdout",
     "output_type": "stream",
     "text": [
      "Ramesh: My name is Ramesh. I will answer your queries about Chatbots. If you want to exit, type Bye!\n"
     ]
    },
    {
     "name": "stdin",
     "output_type": "stream",
     "text": [
      " hii\n"
     ]
    },
    {
     "name": "stdout",
     "output_type": "stream",
     "text": [
      "Ramesh: ðÿ’–\n",
      "user: hii\n",
      "bot: hello\n",
      "\n",
      "user: kya kar rahi ho?\n"
     ]
    },
    {
     "name": "stdin",
     "output_type": "stream",
     "text": [
      " how are you\n"
     ]
    },
    {
     "name": "stdout",
     "output_type": "stream",
     "text": [
      "Ramesh: I am sorry! i don't understand you\n"
     ]
    },
    {
     "name": "stdin",
     "output_type": "stream",
     "text": [
      " how are you?\n"
     ]
    },
    {
     "name": "stdout",
     "output_type": "stream",
     "text": [
      "Ramesh: I am sorry! i don't understand you\n"
     ]
    },
    {
     "name": "stdin",
     "output_type": "stream",
     "text": [
      " kaisi ho\n"
     ]
    },
    {
     "name": "stdout",
     "output_type": "stream",
     "text": [
      "Ramesh: ðÿ’–\n",
      "user: hii\n",
      "bot: hello\n",
      "\n",
      "user: kya kar rahi ho?\n"
     ]
    },
    {
     "name": "stdin",
     "output_type": "stream",
     "text": [
      " i want to meet\n"
     ]
    },
    {
     "name": "stdout",
     "output_type": "stream",
     "text": [
      "Ramesh: user: when will we meet next?\n"
     ]
    },
    {
     "name": "stdin",
     "output_type": "stream",
     "text": [
      " cybrom\n"
     ]
    },
    {
     "name": "stdout",
     "output_type": "stream",
     "text": [
      "Ramesh: cybrom coaching provides job placement\n",
      "yes, cybrom offers placement assistance.\n"
     ]
    },
    {
     "name": "stdin",
     "output_type": "stream",
     "text": [
      " CYBROM\n"
     ]
    },
    {
     "name": "stdout",
     "output_type": "stream",
     "text": [
      "Ramesh: cybrom coaching provides job placement\n",
      "yes, cybrom offers placement assistance.\n"
     ]
    },
    {
     "name": "stdin",
     "output_type": "stream",
     "text": [
      " do you know\n"
     ]
    },
    {
     "name": "stdout",
     "output_type": "stream",
     "text": [
      "Ramesh: user: tell me a fun fact\n",
      "bot: did you know that honey never spoils?\n"
     ]
    },
    {
     "name": "stdin",
     "output_type": "stream",
     "text": [
      " cybrom fee\n"
     ]
    },
    {
     "name": "stdout",
     "output_type": "stream",
     "text": [
      "Ramesh: cybrom coaching provides job placement\n",
      "yes, cybrom offers placement assistance.\n"
     ]
    },
    {
     "name": "stdin",
     "output_type": "stream",
     "text": [
      " cybrom technology\n"
     ]
    },
    {
     "name": "stdout",
     "output_type": "stream",
     "text": [
      "Ramesh: cybrom\n",
      "â€‹cybrom technology pvt.\n"
     ]
    },
    {
     "name": "stdin",
     "output_type": "stream",
     "text": [
      " where is cybrom\n"
     ]
    },
    {
     "name": "stdout",
     "output_type": "stream",
     "text": [
      "Ramesh: cybrom coaching provides job placement\n",
      "yes, cybrom offers placement assistance.\n"
     ]
    },
    {
     "name": "stdin",
     "output_type": "stream",
     "text": [
      " placement\n"
     ]
    },
    {
     "name": "stdout",
     "output_type": "stream",
     "text": [
      "Ramesh: cybrom coaching provides job placement\n",
      "yes, cybrom offers placement assistance.\n"
     ]
    },
    {
     "name": "stdin",
     "output_type": "stream",
     "text": [
      " laptop\n"
     ]
    },
    {
     "name": "stdout",
     "output_type": "stream",
     "text": [
      "Ramesh: I am sorry! i don't understand you\n"
     ]
    },
    {
     "name": "stdin",
     "output_type": "stream",
     "text": [
      " best laptop\n"
     ]
    },
    {
     "name": "stdout",
     "output_type": "stream",
     "text": [
      "Ramesh: user: you are the best!\n"
     ]
    },
    {
     "name": "stdin",
     "output_type": "stream",
     "text": [
      " User: Best luxury brand?\n"
     ]
    },
    {
     "name": "stdout",
     "output_type": "stream",
     "text": [
      "Ramesh: user: you are the best!\n"
     ]
    },
    {
     "name": "stdin",
     "output_type": "stream",
     "text": [
      " User: Best luxury brand?\n"
     ]
    },
    {
     "name": "stdout",
     "output_type": "stream",
     "text": [
      "Ramesh: user: you are the best!\n"
     ]
    },
    {
     "name": "stdin",
     "output_type": "stream",
     "text": [
      " hii\n"
     ]
    },
    {
     "name": "stdout",
     "output_type": "stream",
     "text": [
      "Ramesh: ðÿ’–\n",
      "user: hii\n",
      "bot: hello\n",
      "\n",
      "user: kya kar rahi ho?\n"
     ]
    },
    {
     "name": "stdin",
     "output_type": "stream",
     "text": [
      " cyrbom technology\n"
     ]
    },
    {
     "name": "stdout",
     "output_type": "stream",
     "text": [
      "Ramesh: user: what can you do\n",
      "bot: blockchain is a decentralized ledger technology.\n"
     ]
    },
    {
     "name": "stdin",
     "output_type": "stream",
     "text": [
      " bye\n"
     ]
    }
   ],
   "source": [
    "flag=True\n",
    "print(\"Ramesh: My name is Ramesh. I will answer your queries about Chatbots. If you want to exit, type Bye!\")\n",
    "while(flag==True):\n",
    "    user_response = input()\n",
    "    user_response=user_response.lower()\n",
    "    if(user_response!='bye'):\n",
    "        if(user_response=='thanks' or user_response=='thank you' ):\n",
    "            flag=False\n",
    "            print(\"Ramesh: You are welcome..\")\n",
    "        else:\n",
    "            if(greeting(user_response)!=None):\n",
    "                print(\"Ramesh: \"+greeting(user_response))\n",
    "            else:\n",
    "                print(\"Ramesh: \",end=\"\")\n",
    "                print(response(user_response))\n",
    "                sent_tokens.remove(user_response)\n",
    "    else:\n",
    "        flag=False\n",
    "        print(\"Ramesh: Bye! take care..\")"
   ]
  },
  {
   "cell_type": "code",
   "execution_count": null,
   "id": "0907b054-10da-4fe9-bd44-ac2701c45992",
   "metadata": {},
   "outputs": [],
   "source": []
  },
  {
   "cell_type": "code",
   "execution_count": null,
   "id": "c3c83c84-44fa-40e8-ad84-489545c9f042",
   "metadata": {},
   "outputs": [],
   "source": [
    "\n"
   ]
  },
  {
   "cell_type": "code",
   "execution_count": null,
   "id": "920c19b1-daaf-4cc3-a1ae-f81a1c1ef9ce",
   "metadata": {},
   "outputs": [],
   "source": []
  }
 ],
 "metadata": {
  "kernelspec": {
   "display_name": "Python 3 (ipykernel)",
   "language": "python",
   "name": "python3"
  },
  "language_info": {
   "codemirror_mode": {
    "name": "ipython",
    "version": 3
   },
   "file_extension": ".py",
   "mimetype": "text/x-python",
   "name": "python",
   "nbconvert_exporter": "python",
   "pygments_lexer": "ipython3",
   "version": "3.12.7"
  }
 },
 "nbformat": 4,
 "nbformat_minor": 5
}
